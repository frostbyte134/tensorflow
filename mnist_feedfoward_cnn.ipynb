{
  "nbformat": 4,
  "nbformat_minor": 0,
  "metadata": {
    "colab": {
      "name": "mnist_feedfoward_cnn.ipynb",
      "version": "0.3.2",
      "provenance": []
    },
    "kernelspec": {
      "display_name": "Python 3",
      "language": "python",
      "name": "python3"
    },
    "accelerator": "GPU"
  },
  "cells": [
    {
      "cell_type": "markdown",
      "metadata": {
        "id": "view-in-github",
        "colab_type": "text"
      },
      "source": [
        "[View in Colaboratory](https://colab.research.google.com/github/nailbrainz/tensorflow/blob/master/mnist_feedfoward_cnn.ipynb)"
      ]
    },
    {
      "metadata": {
        "id": "hmqWbRE2aQLw",
        "colab_type": "code",
        "colab": {
          "base_uri": "https://localhost:8080/",
          "height": 34
        },
        "outputId": "79b9b1ee-9bca-445b-b2d5-f1c9c7812f4a"
      },
      "cell_type": "code",
      "source": [
        "import numpy as np\n",
        "import tensorflow as tf\n",
        "import matplotlib.pyplot as plt\n",
        "from tensorflow.examples.tutorials.mnist import input_data\n",
        "print(\"packs loaded\")\n"
      ],
      "execution_count": 1,
      "outputs": [
        {
          "output_type": "stream",
          "text": [
            "packs loaded\n"
          ],
          "name": "stdout"
        }
      ]
    },
    {
      "metadata": {
        "id": "3uNOQJTpaQL1",
        "colab_type": "code",
        "colab": {
          "base_uri": "https://localhost:8080/",
          "height": 153
        },
        "outputId": "b35939cd-e085-4994-8d62-3aad7a78fa29"
      },
      "cell_type": "code",
      "source": [
        "mnist = input_data.read_data_sets('data/', one_hot=True)\n",
        "trainimg   = mnist.train.images\n",
        "trainlabel = mnist.train.labels\n",
        "testimg    = mnist.test.images\n",
        "testlabel  = mnist.test.labels\n",
        "randidx = np.random.randint(testimg.shape[0], size=150)\n",
        "print(type(testimg))\n",
        "print(testimg.shape)\n",
        "testimg = testimg[randidx, :]\n",
        "testlabel = testlabel[randidx, :]\n",
        "print(type(testimg))\n",
        "print(testimg.shape)"
      ],
      "execution_count": 2,
      "outputs": [
        {
          "output_type": "stream",
          "text": [
            "Extracting data/train-images-idx3-ubyte.gz\n",
            "Extracting data/train-labels-idx1-ubyte.gz\n",
            "Extracting data/t10k-images-idx3-ubyte.gz\n",
            "Extracting data/t10k-labels-idx1-ubyte.gz\n",
            "<class 'numpy.ndarray'>\n",
            "(10000, 784)\n",
            "<class 'numpy.ndarray'>\n",
            "(150, 784)\n"
          ],
          "name": "stdout"
        }
      ]
    },
    {
      "metadata": {
        "id": "YKkfDF9WaQL5",
        "colab_type": "code",
        "colab": {}
      },
      "cell_type": "code",
      "source": [
        "device_type = \"/gpu:0\""
      ],
      "execution_count": 0,
      "outputs": []
    },
    {
      "metadata": {
        "id": "w5cAM2bNaQL6",
        "colab_type": "code",
        "colab": {
          "base_uri": "https://localhost:8080/",
          "height": 68
        },
        "outputId": "cbdf20c1-43d4-4378-cb3e-e565b6190dae"
      },
      "cell_type": "code",
      "source": [
        "n_input = trainimg.shape[1]\n",
        "print(trainimg.shape)\n",
        "n_output = trainlabel.shape[1]\n",
        "_input_r = tf.reshape(trainimg, shape=[-1, 28, 28, 1])\n",
        "print(\"conv between input:\" + str(_input_r.shape) + \" and kernel:\" + \"[3, 3, 1, 64]\")\n",
        "\n",
        "with tf.device(device_type):\n",
        "    weights = {\n",
        "        'wc1':tf.Variable(tf.truncated_normal([3, 3, 1, 64], stddev=0.1)),\n",
        "        'wc2':tf.Variable(tf.truncated_normal([3, 3, 64, 128], stddev=0.1)),\n",
        "        'wd1':tf.Variable(tf.truncated_normal([7*7*128, 1024], stddev=0.1)),\n",
        "        'wd2':tf.Variable(tf.truncated_normal([1024, n_output], stddev=0.1))\n",
        "    }\n",
        "    biases = {\n",
        "        'bc1':tf.Variable(tf.random_normal([64], stddev=0.1)),\n",
        "        'bc2':tf.Variable(tf.random_normal([128], stddev=0.1)),\n",
        "        'bd1':tf.Variable(tf.random_normal([1024], stddev=0.1)),\n",
        "                'bd2':tf.Variable(tf.random_normal([n_output], stddev=0.1))\n",
        "    }\n",
        "    def conv_basic(_input, _w, _b, _keepratio):\n",
        "        #input\n",
        "        _input_r = tf.reshape(_input, shape=[-1, 28, 28, 1])\n",
        "        \n",
        "        #conv layer 1\n",
        "        _conv1 = tf.nn.conv2d(_input_r, _w['wc1'], strides=[1 for x in range(4)], padding=\"SAME\")\n",
        "        _mean, _var = tf.nn.moments(_conv1, [0, 1, 2])\n",
        "        _conv1 = tf.nn.batch_normalization(_conv1, _mean, _var, 0, 1, 0.0001)\n",
        "        _conv1 = tf.nn.relu(tf.nn.bias_add(_conv1, _b['bc1']))\n",
        "        _pool1 = tf.nn.max_pool(_conv1, ksize=[1,2,2,1], strides=[1,2,2,1], padding=\"SAME\")\n",
        "        _pool_dr1 = tf.nn.dropout(_pool1, _keepratio)\n",
        "        \n",
        "        #conv layer 2\n",
        "        _conv2 = tf.nn.conv2d(_pool_dr1, _w['wc2'], strides=[1,1,1,1], padding=\"SAME\")\n",
        "        _mean, _var = tf.nn.moments(_conv2, [0, 1, 2])\n",
        "        _conv2 = tf.nn.batch_normalization(_conv2, _mean, _var, 0, 1, 0.0001)\n",
        "        _conv2 = tf.nn.relu(tf.nn.bias_add(_conv2, _b['bc2']))\n",
        "        _pool2 = tf.nn.max_pool(_conv2, ksize=[1,2,2,1], strides=[1,2,2,1], padding=\"SAME\")\n",
        "        _pool_dr2 = tf.nn.dropout(_pool2, _keepratio)\n",
        "        \n",
        "        #vectorize\n",
        "        _dense1 = tf.reshape(_pool_dr2, [-1, _w['wd1'].get_shape().as_list()[0]])\n",
        "        \n",
        "        #FCN1_poor_dr1\n",
        "        _fc1 = tf.nn.relu(tf.add(tf.matmul(_dense1, _w['wd1']), _b['bd1']))\n",
        "        _fc_dr1 = tf.nn.dropout(_fc1, _keepratio)\n",
        "        \n",
        "        #FCN2\n",
        "        _out = tf.add(tf.matmul(_fc_dr1, _w['wd2']), _b['bd2'])\n",
        "        \n",
        "        out = { 'input_r': _input_r, 'conv1': _conv1, 'pool1': _pool1, 'pool1_dr1': _pool_dr1,\n",
        "            'conv2': _conv2, 'pool2': _pool2, 'pool_dr2': _pool_dr2, 'dense1': _dense1,\n",
        "            'fc1': _fc1, 'fc_dr1': _fc_dr1, 'out': _out\n",
        "        }\n",
        "        return out\n",
        "print (\"CNN READY\")"
      ],
      "execution_count": 4,
      "outputs": [
        {
          "output_type": "stream",
          "text": [
            "(55000, 784)\n",
            "conv between input:(55000, 28, 28, 1) and kernel:[3, 3, 1, 64]\n",
            "CNN READY\n"
          ],
          "name": "stdout"
        }
      ]
    },
    {
      "metadata": {
        "id": "wCJdXPB3aQL9",
        "colab_type": "code",
        "colab": {
          "base_uri": "https://localhost:8080/",
          "height": 221
        },
        "outputId": "f67a45ae-5e4e-480c-8d9d-81b67dd89891"
      },
      "cell_type": "code",
      "source": [
        "x = tf.placeholder(tf.float32, [None, n_input])\n",
        "y = tf.placeholder(tf.float32, [None, n_output])\n",
        "keepratio = tf.placeholder(tf.float32)\n",
        "\n",
        "with tf.device(device_type):\n",
        "    _pred = conv_basic(x, weights, biases, keepratio)['out']\n",
        "    cost = tf.reduce_mean(tf.nn.softmax_cross_entropy_with_logits(labels=y, logits=_pred))\n",
        "    optm = tf.train.AdamOptimizer(learning_rate=0.001).minimize(cost)\n",
        "    _corr = tf.equal(tf.argmax(y, 1), tf.argmax(_pred, 1))\n",
        "    accr = tf.reduce_mean(tf.cast(_corr, tf.float32))\n",
        "    init = tf.initialize_all_variables()\n",
        "    \n",
        "#saver??\n",
        "save_step = 1\n",
        "saver = tf.train.Saver(max_to_keep=3)\n",
        "print(\"graph rdy\")"
      ],
      "execution_count": 5,
      "outputs": [
        {
          "output_type": "stream",
          "text": [
            "WARNING:tensorflow:From <ipython-input-5-70988ae73928>:7: softmax_cross_entropy_with_logits (from tensorflow.python.ops.nn_ops) is deprecated and will be removed in a future version.\n",
            "Instructions for updating:\n",
            "\n",
            "Future major versions of TensorFlow will allow gradients to flow\n",
            "into the labels input on backprop by default.\n",
            "\n",
            "See tf.nn.softmax_cross_entropy_with_logits_v2.\n",
            "\n",
            "WARNING:tensorflow:From /usr/local/lib/python3.6/dist-packages/tensorflow/python/util/tf_should_use.py:118: initialize_all_variables (from tensorflow.python.ops.variables) is deprecated and will be removed after 2017-03-02.\n",
            "Instructions for updating:\n",
            "Use `tf.global_variables_initializer` instead.\n",
            "graph rdy\n"
          ],
          "name": "stdout"
        }
      ]
    },
    {
      "metadata": {
        "id": "wveG2yCTaQMD",
        "colab_type": "code",
        "colab": {}
      },
      "cell_type": "code",
      "source": [
        "do_train = 1\n",
        "_config = tf.ConfigProto(allow_soft_placement=True)\n",
        "sess = tf.Session(config=_config)\n",
        "sess.run(init)"
      ],
      "execution_count": 0,
      "outputs": []
    },
    {
      "metadata": {
        "id": "JdmuLMSkaQME",
        "colab_type": "code",
        "colab": {
          "base_uri": "https://localhost:8080/",
          "height": 1326
        },
        "outputId": "4bf15662-6d5a-45a8-e760-e40ec45040e6"
      },
      "cell_type": "code",
      "source": [
        "training_epochs = 15\n",
        "batch_size = 50\n",
        "display_step = 1\n",
        "from tensorflow.python.client import device_lib\n",
        "\n",
        "def get_available_gpus():\n",
        "    local_device_protos = device_lib.list_local_devices()\n",
        "    return [x.name for x in local_device_protos]\n",
        "print(get_available_gpus())\n",
        "\n",
        "if do_train:\n",
        "    for epoch in range(training_epochs):\n",
        "        print(\"start\")\n",
        "        avg_cost = 1\n",
        "        total_batch = int(mnist.train.num_examples/batch_size)\n",
        "        for i in range(total_batch):\n",
        "            batch_xs, batch_ys = mnist.train.next_batch(batch_size)\n",
        "            fds = {x:batch_xs, y:batch_ys, keepratio:0.7}\n",
        "            sess.run(optm, feed_dict=fds)\n",
        "            avg_cost += sess.run(cost, feed_dict=fds)/total_batch\n",
        "        print('end')\n",
        "        if epoch % display_step == 0:\n",
        "            print (\"Epoch: %03d/%03d cost: %.9f\" % (epoch, training_epochs, avg_cost))\n",
        "            train_acc = sess.run(accr, feed_dict={x:batch_xs, y:batch_ys, keepratio:1.})\n",
        "            print (\" Training accuracy: %.3f\" % (train_acc))\n",
        "            test_acc = sess.run(accr, feed_dict={x:testimg, y:testlabel, keepratio:1.})\n",
        "            print (\" Test accuracy: %.3f\" % (test_acc))\n",
        "\n",
        "        # Save Net\n",
        "        if epoch % save_step == 0:\n",
        "            saver.save(sess, \"nets/cnn_mnist_basic.ckpt-\" + str(epoch))\n",
        "\n",
        "    print (\"OPTIMIZATION FINISHED\")\n"
      ],
      "execution_count": 7,
      "outputs": [
        {
          "output_type": "stream",
          "text": [
            "['/device:CPU:0', '/device:GPU:0']\n",
            "start\n",
            "end\n",
            "Epoch: 000/015 cost: 1.993025251\n",
            " Training accuracy: 0.980\n",
            " Test accuracy: 0.940\n",
            "start\n",
            "end\n",
            "Epoch: 001/015 cost: 1.176778478\n",
            " Training accuracy: 0.980\n",
            " Test accuracy: 0.960\n",
            "start\n",
            "end\n",
            "Epoch: 002/015 cost: 1.121932805\n",
            " Training accuracy: 1.000\n",
            " Test accuracy: 0.980\n",
            "start\n",
            "end\n",
            "Epoch: 003/015 cost: 1.105492078\n",
            " Training accuracy: 1.000\n",
            " Test accuracy: 0.987\n",
            "start\n",
            "end\n",
            "Epoch: 004/015 cost: 1.083105101\n",
            " Training accuracy: 1.000\n",
            " Test accuracy: 0.987\n",
            "start\n",
            "end\n",
            "Epoch: 005/015 cost: 1.070979459\n",
            " Training accuracy: 1.000\n",
            " Test accuracy: 0.987\n",
            "start\n",
            "end\n",
            "Epoch: 006/015 cost: 1.059572229\n",
            " Training accuracy: 1.000\n",
            " Test accuracy: 0.987\n",
            "start\n",
            "end\n",
            "Epoch: 007/015 cost: 1.054356091\n",
            " Training accuracy: 0.980\n",
            " Test accuracy: 0.987\n",
            "start\n",
            "end\n",
            "Epoch: 008/015 cost: 1.044095727\n",
            " Training accuracy: 1.000\n",
            " Test accuracy: 0.980\n",
            "start\n",
            "end\n",
            "Epoch: 009/015 cost: 1.038433382\n",
            " Training accuracy: 1.000\n",
            " Test accuracy: 0.987\n",
            "start\n",
            "end\n",
            "Epoch: 010/015 cost: 1.033188634\n",
            " Training accuracy: 1.000\n",
            " Test accuracy: 0.987\n",
            "start\n",
            "end\n",
            "Epoch: 011/015 cost: 1.031718988\n",
            " Training accuracy: 0.980\n",
            " Test accuracy: 0.987\n",
            "start\n",
            "end\n",
            "Epoch: 012/015 cost: 1.028329340\n",
            " Training accuracy: 1.000\n",
            " Test accuracy: 0.987\n",
            "start\n",
            "end\n",
            "Epoch: 013/015 cost: 1.024167707\n",
            " Training accuracy: 1.000\n",
            " Test accuracy: 0.987\n",
            "start\n",
            "end\n",
            "Epoch: 014/015 cost: 1.024570432\n",
            " Training accuracy: 1.000\n",
            " Test accuracy: 0.987\n",
            "OPTIMIZATION FINISHED\n"
          ],
          "name": "stdout"
        }
      ]
    },
    {
      "metadata": {
        "id": "ErB3t3geaQMG",
        "colab_type": "code",
        "colab": {}
      },
      "cell_type": "code",
      "source": [
        ""
      ],
      "execution_count": 0,
      "outputs": []
    }
  ]
}